{
 "cells": [
  {
   "cell_type": "markdown",
   "metadata": {},
   "source": [
    "# World CO2 Emissions Forecasting\n",
    "## ARIMA Model and LSTM Recurren Network Model Forecasting Comparison\n",
    "[*Cristian Castro Álvarez*](https://github.com/cristian-castro-a)"
   ]
  },
  {
   "cell_type": "markdown",
   "metadata": {},
   "source": [
    "**Goal**: \n",
    "- To compare the performance of an ARIMA Model and a LSTM Recurrent Neural Network model for the forecasting of the WORLD's CO2 Emissions for the next decade\n",
    "\n",
    "\n",
    "**Data:**\n",
    "- The data comes from [Our World in Data](https://github.com/owid/co2-data)\n",
    "- Column 'CO2' of the dataframe indicates the Tonnes of CO2 emmitted into the atmosphere.\n",
    "- The dataset includes yearly data from 1750 to 2020, with a total of 271 data points.\n",
    "\n",
    "**Model Selection and Comments:**\n",
    "- An Autoregressive Integrated Moving Average (ARIMA) Model is an statistical model for times series forecasting. It is autoregressive as its predicts the future values of a time series based on its own past values. For more information and theoretical background, please refer to [Introduction to ARIMA (Duke University)](https://people.duke.edu/~rnau/411arim.htm)\n",
    "- A Long Short-Term Memory (LSTM) is a Recurrent Neural Network (RNN) which introduce cells that includes self-loops instead of a unit that simply applies an element-wise nonlinearity to the affine transformation of inputs (like the units of regular Neural Networks). For more information and theorical background, please refer to Chapter 10 of [Deep Learning (Goodfellow, Bengio and Courville)](https://www.deeplearningbook.org/)\n",
    "- For this personal project on a CO2 Emission time series, I chose the ARIMA and LSTM Models as both are widely used for many sequence modeling and time series. While ARIMA is a statistical method, LSTM is booming by hype that Neural Networks are experiencing in industry\n",
    "- The ARIMA Model and the LSTM Recurrent Neural Network were trained separately, on individual learning processes\n",
    "- If interested in the individual tranining, please refer in this repository to 'Models' Folder"
   ]
  },
  {
   "cell_type": "code",
   "execution_count": 3,
   "metadata": {},
   "outputs": [
    {
     "name": "stdout",
     "output_type": "stream",
     "text": [
      "Statsmodel Version:  0.13.2\n",
      "TensorFlow Version:  2.0.0\n"
     ]
    }
   ],
   "source": [
    "# Libraries\n",
    "import pandas as pd\n",
    "import numpy as np\n",
    "import matplotlib.pyplot as plt\n",
    "import matplotlib as mpl\n",
    "import plotly.express as px\n",
    "import plotly.graph_objects as go\n",
    "import seaborn as sns\n",
    "import math\n",
    "\n",
    "from statsmodels.graphics.tsaplots import plot_acf, plot_pacf\n",
    "from pandas.plotting import lag_plot\n",
    "from statsmodels.tsa.stattools import adfuller\n",
    "from statsmodels.tsa.arima_model import ARIMAResults\n",
    "import statsmodels.api as sm\n",
    "print('Statsmodel Version: ', sm.__version__)\n",
    "\n",
    "import tensorflow as tf\n",
    "print('TensorFlow Version: ', tf.__version__)\n",
    "from sklearn.preprocessing import MinMaxScaler\n",
    "from sklearn.metrics import mean_absolute_error\n",
    "\n",
    "import warnings\n",
    "warnings.filterwarnings(\"ignore\")\n",
    "import os\n",
    "\n",
    "mpl.rcParams['figure.figsize'] = (10,8)\n",
    "mpl.rcParams['axes.grid'] = False"
   ]
  },
  {
   "cell_type": "markdown",
   "metadata": {},
   "source": [
    "# 1. Data Presentation\n",
    "- The data comes from [Our World in Data](https://github.com/owid/co2-data)\n",
    "- Column 'CO2' of the dataframe indicates the Tonnes of CO2 emmitted into the atmosphere.\n",
    "- The dataset includes yearly data from 1750 to 2020, with a total of 271 data points."
   ]
  },
  {
   "cell_type": "code",
   "execution_count": 4,
   "metadata": {},
   "outputs": [
    {
     "data": {
      "text/html": [
       "<div>\n",
       "<style scoped>\n",
       "    .dataframe tbody tr th:only-of-type {\n",
       "        vertical-align: middle;\n",
       "    }\n",
       "\n",
       "    .dataframe tbody tr th {\n",
       "        vertical-align: top;\n",
       "    }\n",
       "\n",
       "    .dataframe thead th {\n",
       "        text-align: right;\n",
       "    }\n",
       "</style>\n",
       "<table border=\"1\" class=\"dataframe\">\n",
       "  <thead>\n",
       "    <tr style=\"text-align: right;\">\n",
       "      <th></th>\n",
       "      <th>date</th>\n",
       "      <th>co2</th>\n",
       "    </tr>\n",
       "  </thead>\n",
       "  <tbody>\n",
       "    <tr>\n",
       "      <th>0</th>\n",
       "      <td>1750-12-31</td>\n",
       "      <td>46.755</td>\n",
       "    </tr>\n",
       "    <tr>\n",
       "      <th>1</th>\n",
       "      <td>1751-12-31</td>\n",
       "      <td>46.755</td>\n",
       "    </tr>\n",
       "    <tr>\n",
       "      <th>2</th>\n",
       "      <td>1752-12-31</td>\n",
       "      <td>46.770</td>\n",
       "    </tr>\n",
       "    <tr>\n",
       "      <th>3</th>\n",
       "      <td>1753-12-31</td>\n",
       "      <td>46.770</td>\n",
       "    </tr>\n",
       "    <tr>\n",
       "      <th>4</th>\n",
       "      <td>1754-12-31</td>\n",
       "      <td>46.790</td>\n",
       "    </tr>\n",
       "  </tbody>\n",
       "</table>\n",
       "</div>"
      ],
      "text/plain": [
       "        date     co2\n",
       "0 1750-12-31  46.755\n",
       "1 1751-12-31  46.755\n",
       "2 1752-12-31  46.770\n",
       "3 1753-12-31  46.770\n",
       "4 1754-12-31  46.790"
      ]
     },
     "execution_count": 4,
     "metadata": {},
     "output_type": "execute_result"
    }
   ],
   "source": [
    "# Raw Data\n",
    "df = pd.read_csv('Data/owid-co2-data.csv')\n",
    "\n",
    "# Aggregate the data on a yearly basis (the entire world as one entity, I don't care about the emissions of individual countries)\n",
    "df = df.groupby(by=['year']).sum().reset_index()[['year','co2']]\n",
    "df.insert(loc = 1, column = 'month', value = 12)\n",
    "df.insert(loc = 2, column = 'day', value = 31)\n",
    "values = pd.to_datetime(df[['year','month','day']])\n",
    "df.insert(loc = 0, column = 'date', value = values)\n",
    "df.drop(['year','month','day'], axis = 1, inplace = True)\n",
    "df.head()"
   ]
  },
  {
   "cell_type": "code",
   "execution_count": 5,
   "metadata": {},
   "outputs": [
    {
     "data": {
      "image/png": "[encoded data removed]"
     },
     "metadata": {},
     "output_type": "display_data"
    }
   ],
   "source": [
    "# To work with tonnes of CO2 it is necessary a conversion factor of 3.664.\n",
    "df['co2'] = df['co2']/3.664\n",
    "\n",
    "# Visualizing the world emissions per year\n",
    "fig = px.line(df, \n",
    "                x = 'date', \n",
    "                y = 'co2', \n",
    "                markers = True, \n",
    "                height = 800, \n",
    "                width = 1000)\n",
    "\n",
    "fig.update_layout(title = dict(\n",
    "        text = 'Total World CO2 Emissions',\n",
    "        font = dict(\n",
    "            family = 'Arial',\n",
    "            size = 30\n",
    "        ),\n",
    "        x = 0.5\n",
    "    )\n",
    "    )\n",
    "\n",
    "fig.update_traces(line_color = 'darkblue')\n",
    "\n",
    "fig.update_xaxes(\n",
    "    title_text = 'Date',\n",
    "    title_font = {'size': 20}\n",
    ")\n",
    "\n",
    "fig.update_yaxes(\n",
    "    title_text = 'Million Tonnes of CO2 Emmitted into the Atmosphere',\n",
    "    title_font = {'size': 20}\n",
    ")\n",
    "\n",
    "fig.show('png')"
   ]
  },
  {
   "cell_type": "markdown",
   "metadata": {},
   "source": [
    "**Comments:**\n",
    "- The time series shows worrying trend about CO2 Emissions\n",
    "- The last point shows an abrupt drop in the CO2 Emissions, this points corresponds to the COVID-19 pandemic effect"
   ]
  },
  {
   "cell_type": "markdown",
   "metadata": {},
   "source": [
    "# 2. Performance of a LSTM Model\n",
    "- This sections presents the data preparation (scaling), model import and forecasting for the LSTM Model\n",
    "- If interested in the training and tuning of the LSTM Model please refer to Models > LSTM_Model.ipynb"
   ]
  },
  {
   "cell_type": "markdown",
   "metadata": {},
   "source": [
    "## 2.1 Scaling for the Data\n",
    "- The inputs of the LSTM Model must be between 0 and 1, therefore the MinMaxScaler of SKLearn is used\n",
    "- The Scaler is trained as it was for the training process of the model"
   ]
  },
  {
   "cell_type": "code",
   "execution_count": 6,
   "metadata": {},
   "outputs": [
    {
     "data": {
      "text/plain": [
       "MinMaxScaler()"
      ]
     },
     "execution_count": 6,
     "metadata": {},
     "output_type": "execute_result"
    }
   ],
   "source": [
    "# Reproducing the scale fitting made for training (scaler fitted only on the training data)\n",
    "df_train = df[:247].copy()\n",
    "scaler = MinMaxScaler(feature_range = (0,1))\n",
    "scaler.fit(df_train['co2'].values.reshape(-1,1))"
   ]
  },
  {
   "cell_type": "code",
   "execution_count": 7,
   "metadata": {},
   "outputs": [
    {
     "data": {
      "text/html": [
       "<div>\n",
       "<style scoped>\n",
       "    .dataframe tbody tr th:only-of-type {\n",
       "        vertical-align: middle;\n",
       "    }\n",
       "\n",
       "    .dataframe tbody tr th {\n",
       "        vertical-align: top;\n",
       "    }\n",
       "\n",
       "    .dataframe thead th {\n",
       "        text-align: right;\n",
       "    }\n",
       "</style>\n",
       "<table border=\"1\" class=\"dataframe\">\n",
       "  <thead>\n",
       "    <tr style=\"text-align: right;\">\n",
       "      <th></th>\n",
       "      <th>date</th>\n",
       "      <th>co2</th>\n",
       "    </tr>\n",
       "  </thead>\n",
       "  <tbody>\n",
       "    <tr>\n",
       "      <th>266</th>\n",
       "      <td>2016-12-31</td>\n",
       "      <td>1.386534</td>\n",
       "    </tr>\n",
       "    <tr>\n",
       "      <th>267</th>\n",
       "      <td>2017-12-31</td>\n",
       "      <td>1.404320</td>\n",
       "    </tr>\n",
       "    <tr>\n",
       "      <th>268</th>\n",
       "      <td>2018-12-31</td>\n",
       "      <td>1.428210</td>\n",
       "    </tr>\n",
       "    <tr>\n",
       "      <th>269</th>\n",
       "      <td>2019-12-31</td>\n",
       "      <td>1.427880</td>\n",
       "    </tr>\n",
       "    <tr>\n",
       "      <th>270</th>\n",
       "      <td>2020-12-31</td>\n",
       "      <td>1.351911</td>\n",
       "    </tr>\n",
       "  </tbody>\n",
       "</table>\n",
       "</div>"
      ],
      "text/plain": [
       "          date       co2\n",
       "266 2016-12-31  1.386534\n",
       "267 2017-12-31  1.404320\n",
       "268 2018-12-31  1.428210\n",
       "269 2019-12-31  1.427880\n",
       "270 2020-12-31  1.351911"
      ]
     },
     "execution_count": 7,
     "metadata": {},
     "output_type": "execute_result"
    }
   ],
   "source": [
    "# Scaling the Input Data for LSTM Model\n",
    "df_input_lstm = df.copy()\n",
    "df_input_lstm['co2'] = scaler.transform(df['co2'].values.reshape(-1,1))\n",
    "df_input_lstm.tail()"
   ]
  },
  {
   "cell_type": "markdown",
   "metadata": {},
   "source": [
    "## 2.2 Import Best LSTM Model\n",
    "- Model trained by using Random Search and Keras Tuner (Please refer to LSTM_Model.ipynb)\n",
    "- The model was stored as .h5 format in the path: Models > best_lstm_model_tuned"
   ]
  },
  {
   "cell_type": "code",
   "execution_count": 8,
   "metadata": {},
   "outputs": [
    {
     "name": "stderr",
     "output_type": "stream",
     "text": [
      "2022-10-10 20:46:51.895934: I tensorflow/core/platform/cpu_feature_guard.cc:145] This TensorFlow binary is optimized with Intel(R) MKL-DNN to use the following CPU instructions in performance critical operations:  SSE4.1 SSE4.2\n",
      "To enable them in non-MKL-DNN operations, rebuild TensorFlow with the appropriate compiler flags.\n",
      "2022-10-10 20:46:51.897895: I tensorflow/core/common_runtime/process_util.cc:115] Creating new thread pool with default inter op setting: 8. Tune using inter_op_parallelism_threads for best performance.\n"
     ]
    },
    {
     "name": "stdout",
     "output_type": "stream",
     "text": [
      "WARNING:tensorflow:Error in loading the saved optimizer state. As a result, your model is starting with a freshly initialized optimizer.\n"
     ]
    }
   ],
   "source": [
    "# Import Best LSTM Model\n",
    "# Please refer to \"Models\" Folder to check in detail the training process\n",
    "directory = 'Models/best_lstm_model_tuned/best_lstm.h5'\n",
    "parent_dir = os.path.abspath(os.getcwd())\n",
    "path = os.path.join(parent_dir, directory)\n",
    "best_lstm = tf.keras.models.load_model(path)"
   ]
  },
  {
   "cell_type": "code",
   "execution_count": 9,
   "metadata": {},
   "outputs": [
    {
     "name": "stdout",
     "output_type": "stream",
     "text": [
      "Model: \"sequential\"\n",
      "_________________________________________________________________\n",
      "Layer (type)                 Output Shape              Param #   \n",
      "=================================================================\n",
      "lstm (LSTM)                  (None, 5, 120)            58560     \n",
      "_________________________________________________________________\n",
      "lstm_1 (LSTM)                (None, 95)                82080     \n",
      "_________________________________________________________________\n",
      "dense (Dense)                (None, 45)                4320      \n",
      "_________________________________________________________________\n",
      "dense_1 (Dense)              (None, 1)                 46        \n",
      "=================================================================\n",
      "Total params: 145,006\n",
      "Trainable params: 145,006\n",
      "Non-trainable params: 0\n",
      "_________________________________________________________________\n"
     ]
    }
   ],
   "source": [
    "# Architecture of the best LSTM Model\n",
    "best_lstm.summary()"
   ]
  },
  {
   "cell_type": "markdown",
   "metadata": {},
   "source": [
    "## 2.3 Forecasting with LSTM Model\n",
    "- The goal is to forecast the next 10 years (starting 2021) using the previously trained LSTM Model \n",
    "- For that 10 different sequences must be created, as the models accept sequences of data as input\n",
    "- As each entry will be subsequently be used for forecasting, this can be done in a for loop"
   ]
  },
  {
   "cell_type": "code",
   "execution_count": 10,
   "metadata": {},
   "outputs": [],
   "source": [
    "# Forecasting: 10 iterations (from 2021 to 2030)\n",
    "\n",
    "# Sequences \n",
    "# The model starts at the end of its testing (Refer to LSTM_Model.ipynb)\n",
    "X_forecast = [[[1.4044411],[1.4052532],[1.4258372],[1.4443076],[1.436478]]]\n",
    "X_forecast = np.array(X_forecast)\n",
    "\n",
    "# List of predictions\n",
    "predictions = []\n",
    "\n",
    "for iteration in range(1,11):\n",
    "    # Get prediction for this iteration\n",
    "    prediction = best_lstm.predict(X_forecast)\n",
    "    predictions.append(prediction[-1])\n",
    "\n",
    "    # Append the prediction and update the next sequence\n",
    "    to_append = X_forecast.tolist()\n",
    "    to_append = to_append[iteration-1][-4:]\n",
    "    to_append.append([prediction[-1][0]])\n",
    "    X_forecast = X_forecast.tolist()\n",
    "    X_forecast.append(to_append)\n",
    "    X_forecast = np.array(X_forecast)"
   ]
  },
  {
   "cell_type": "code",
   "execution_count": 11,
   "metadata": {},
   "outputs": [
    {
     "data": {
      "text/plain": [
       "array([35438.04465442, 35817.66402361, 36139.76335646, 36382.41284661,\n",
       "       36566.8139395 , 36729.19162141, 36889.49245091, 37043.35503794,\n",
       "       37182.57142775, 37305.07354338])"
      ]
     },
     "execution_count": 11,
     "metadata": {},
     "output_type": "execute_result"
    }
   ],
   "source": [
    "# Re Scale Predictions\n",
    "scaled_predictions = scaler.inverse_transform(predictions)\n",
    "scaled_predictions.reshape(-1)"
   ]
  },
  {
   "cell_type": "code",
   "execution_count": 12,
   "metadata": {},
   "outputs": [
    {
     "data": {
      "text/html": [
       "<div>\n",
       "<style scoped>\n",
       "    .dataframe tbody tr th:only-of-type {\n",
       "        vertical-align: middle;\n",
       "    }\n",
       "\n",
       "    .dataframe tbody tr th {\n",
       "        vertical-align: top;\n",
       "    }\n",
       "\n",
       "    .dataframe thead th {\n",
       "        text-align: right;\n",
       "    }\n",
       "</style>\n",
       "<table border=\"1\" class=\"dataframe\">\n",
       "  <thead>\n",
       "    <tr style=\"text-align: right;\">\n",
       "      <th></th>\n",
       "      <th>date</th>\n",
       "      <th>co2_forecasted</th>\n",
       "    </tr>\n",
       "  </thead>\n",
       "  <tbody>\n",
       "    <tr>\n",
       "      <th>0</th>\n",
       "      <td>2021-12-31</td>\n",
       "      <td>35438.044654</td>\n",
       "    </tr>\n",
       "    <tr>\n",
       "      <th>1</th>\n",
       "      <td>2022-12-31</td>\n",
       "      <td>35817.664024</td>\n",
       "    </tr>\n",
       "    <tr>\n",
       "      <th>2</th>\n",
       "      <td>2023-12-31</td>\n",
       "      <td>36139.763356</td>\n",
       "    </tr>\n",
       "    <tr>\n",
       "      <th>3</th>\n",
       "      <td>2024-12-31</td>\n",
       "      <td>36382.412847</td>\n",
       "    </tr>\n",
       "    <tr>\n",
       "      <th>4</th>\n",
       "      <td>2025-12-31</td>\n",
       "      <td>36566.813939</td>\n",
       "    </tr>\n",
       "  </tbody>\n",
       "</table>\n",
       "</div>"
      ],
      "text/plain": [
       "        date  co2_forecasted\n",
       "0 2021-12-31    35438.044654\n",
       "1 2022-12-31    35817.664024\n",
       "2 2023-12-31    36139.763356\n",
       "3 2024-12-31    36382.412847\n",
       "4 2025-12-31    36566.813939"
      ]
     },
     "execution_count": 12,
     "metadata": {},
     "output_type": "execute_result"
    }
   ],
   "source": [
    "# Creating a Dataframe for Forecasting\n",
    "forecast = pd.DataFrame(\n",
    "    {\n",
    "        'date': pd.date_range(\n",
    "            start = '2021-12-31',\n",
    "            end = '2030-12-31',\n",
    "            freq = 'Y'\n",
    "            ), \n",
    "        'co2_forecasted': scaled_predictions.reshape(-1)\n",
    "    }\n",
    ")\n",
    "forecast.head()"
   ]
  },
  {
   "cell_type": "markdown",
   "metadata": {},
   "source": [
    "## 2.4 LSTM Results: Forecasting for the Next 10 Years"
   ]
  },
  {
   "cell_type": "code",
   "execution_count": 13,
   "metadata": {},
   "outputs": [
    {
     "data": {
      "image/png": "[encoded data removed]"
     },
     "metadata": {},
     "output_type": "display_data"
    }
   ],
   "source": [
    "# Plotting the Results\n",
    "fig = go.Figure()\n",
    "\n",
    "fig.update_layout(\n",
    "    width = 1000,\n",
    "    height = 800,\n",
    "    title = dict(\n",
    "        text = 'Total World CO2 Emissions: Forecasting',\n",
    "        font = dict(\n",
    "            family = 'Arial',\n",
    "            size = 30\n",
    "        ),\n",
    "        x = 0.5\n",
    "    )\n",
    ")\n",
    "\n",
    "fig.update_xaxes(\n",
    "    title_text = 'Date',\n",
    "    title_font = {'size': 20}\n",
    ")\n",
    "\n",
    "fig.update_yaxes(\n",
    "    title_text = 'Million Tonnes of CO2 Emmitted into the Atmosphere',\n",
    "    title_font = {'size': 20}\n",
    ")\n",
    "\n",
    "fig.add_trace(\n",
    "    go.Scatter(\n",
    "        x = df['date'],\n",
    "        y = df['co2'],\n",
    "        mode = 'lines',\n",
    "        name = 'Ground Truth',\n",
    "        marker = dict(\n",
    "            color = 'darkblue',\n",
    "            size = 15\n",
    "        )\n",
    "    )\n",
    ")\n",
    "\n",
    "fig.add_trace(\n",
    "    go.Scatter(\n",
    "        x = forecast['date'],\n",
    "        y = forecast['co2_forecasted'],\n",
    "        mode = 'lines',\n",
    "        name = 'Forecast using LSTM RNN Model',\n",
    "        marker = dict(\n",
    "            color = 'orange',\n",
    "            size = 15\n",
    "        )\n",
    "    )\n",
    ")\n",
    "\n",
    "fig.show('png')"
   ]
  },
  {
   "cell_type": "markdown",
   "metadata": {},
   "source": [
    "# 3. Performance of an ARIMA Model\n",
    "- This sections presents the data preparation (sequencing), model reproduction and forecasting for the ARIMA Model\n",
    "- Is my understanding that Statsmodels has a bug when exporting/importing a model. For simplicity, and considering that the ARIMA Model is fast to train, I will just reproduce the best model\n",
    "- If interested in the training and tuning of the ARIMA Model please refer to Models > ARIMA_Model.ipynb"
   ]
  },
  {
   "cell_type": "markdown",
   "metadata": {},
   "source": [
    "## 3.1 Reproduce Best Arima Model"
   ]
  },
  {
   "cell_type": "code",
   "execution_count": 14,
   "metadata": {},
   "outputs": [
    {
     "data": {
      "text/html": [
       "<div>\n",
       "<style scoped>\n",
       "    .dataframe tbody tr th:only-of-type {\n",
       "        vertical-align: middle;\n",
       "    }\n",
       "\n",
       "    .dataframe tbody tr th {\n",
       "        vertical-align: top;\n",
       "    }\n",
       "\n",
       "    .dataframe thead th {\n",
       "        text-align: right;\n",
       "    }\n",
       "</style>\n",
       "<table border=\"1\" class=\"dataframe\">\n",
       "  <thead>\n",
       "    <tr style=\"text-align: right;\">\n",
       "      <th></th>\n",
       "      <th>co2</th>\n",
       "      <th>logco2</th>\n",
       "    </tr>\n",
       "    <tr>\n",
       "      <th>date</th>\n",
       "      <th></th>\n",
       "      <th></th>\n",
       "    </tr>\n",
       "  </thead>\n",
       "  <tbody>\n",
       "    <tr>\n",
       "      <th>2016-12-31</th>\n",
       "      <td>34035.382642</td>\n",
       "      <td>10.435156</td>\n",
       "    </tr>\n",
       "    <tr>\n",
       "      <th>2017-12-31</th>\n",
       "      <td>34471.811135</td>\n",
       "      <td>10.447897</td>\n",
       "    </tr>\n",
       "    <tr>\n",
       "      <th>2018-12-31</th>\n",
       "      <td>35058.007096</td>\n",
       "      <td>10.464759</td>\n",
       "    </tr>\n",
       "    <tr>\n",
       "      <th>2019-12-31</th>\n",
       "      <td>35049.914574</td>\n",
       "      <td>10.464528</td>\n",
       "    </tr>\n",
       "    <tr>\n",
       "      <th>2020-12-31</th>\n",
       "      <td>33185.793122</td>\n",
       "      <td>10.409877</td>\n",
       "    </tr>\n",
       "  </tbody>\n",
       "</table>\n",
       "</div>"
      ],
      "text/plain": [
       "                     co2     logco2\n",
       "date                               \n",
       "2016-12-31  34035.382642  10.435156\n",
       "2017-12-31  34471.811135  10.447897\n",
       "2018-12-31  35058.007096  10.464759\n",
       "2019-12-31  35049.914574  10.464528\n",
       "2020-12-31  33185.793122  10.409877"
      ]
     },
     "execution_count": 14,
     "metadata": {},
     "output_type": "execute_result"
    }
   ],
   "source": [
    "# Reproduce Best Arima Model\n",
    "df_ar = df.copy()\n",
    "\n",
    "# Set the index as date\n",
    "df_ar.set_index('date', inplace = True)\n",
    "\n",
    "# Use of a log transform: Log(co2)\n",
    "df_ar['logco2'] = np.log(df_ar['co2'])\n",
    "df_ar.tail()"
   ]
  },
  {
   "cell_type": "code",
   "execution_count": 15,
   "metadata": {},
   "outputs": [
    {
     "name": "stdout",
     "output_type": "stream",
     "text": [
      "                               SARIMAX Results                                \n",
      "==============================================================================\n",
      "Dep. Variable:                 logco2   No. Observations:                  271\n",
      "Model:                 ARIMA(1, 1, 1)   Log Likelihood                 415.919\n",
      "Date:                Mon, 10 Oct 2022   AIC                           -825.838\n",
      "Time:                        20:46:54   BIC                           -815.043\n",
      "Sample:                    12-31-1750   HQIC                          -821.503\n",
      "                         - 12-31-2020                                         \n",
      "Covariance Type:                  opg                                         \n",
      "==============================================================================\n",
      "                 coef    std err          z      P>|z|      [0.025      0.975]\n",
      "------------------------------------------------------------------------------\n",
      "ar.L1          0.9976      0.004    280.907      0.000       0.991       1.005\n",
      "ma.L1         -0.9668      0.016    -58.918      0.000      -0.999      -0.935\n",
      "sigma2         0.0027      0.000     23.737      0.000       0.002       0.003\n",
      "===================================================================================\n",
      "Ljung-Box (L1) (Q):                   9.88   Jarque-Bera (JB):               557.99\n",
      "Prob(Q):                              0.00   Prob(JB):                         0.00\n",
      "Heteroskedasticity (H):               0.62   Skew:                             0.21\n",
      "Prob(H) (two-sided):                  0.02   Kurtosis:                        10.03\n",
      "===================================================================================\n",
      "\n",
      "Warnings:\n",
      "[1] Covariance matrix calculated using the outer product of gradients (complex-step).\n"
     ]
    }
   ],
   "source": [
    "# ARIMA Model\n",
    "best_arima = sm.tsa.arima.ARIMA(endog = df_ar['logco2'], order = (1,1,1))\n",
    "best_arima_fit = best_arima.fit()\n",
    "print(best_arima_fit.summary())"
   ]
  },
  {
   "cell_type": "markdown",
   "metadata": {},
   "source": [
    "## 3.2 Forecasting with ARIMA Model\n",
    "- The goal is to forecast the next 10 years (starting 2021) using the reproduced ARIMA Model "
   ]
  },
  {
   "cell_type": "code",
   "execution_count": 22,
   "metadata": {},
   "outputs": [
    {
     "data": {
      "text/plain": [
       "2021-12-31    33690.107543\n",
       "2022-12-31    34200.838783\n",
       "2023-12-31    34718.049653\n",
       "2024-12-31    35241.803330\n",
       "2025-12-31    35772.163362\n",
       "2026-12-31    36309.193658\n",
       "2027-12-31    36852.958499\n",
       "2028-12-31    37403.522527\n",
       "2029-12-31    37960.950750\n",
       "2030-12-31    38525.308539\n",
       "Freq: A-DEC, Name: predicted_mean, dtype: float64"
      ]
     },
     "execution_count": 22,
     "metadata": {},
     "output_type": "execute_result"
    }
   ],
   "source": [
    "# Forecasting: 10 perdios (from 2021 to 2030)\n",
    "# Remember that the data is here transformed as logarithm\n",
    "forecast_int = best_arima_fit.get_forecast(steps = 10, alpha=0.05)\n",
    "forecast_val = best_arima_fit.forecast(steps = 10, alpha=0.05)\n",
    "forecast_int_val = forecast_int.conf_int()\n",
    "forecast_val = np.exp(forecast_val)\n",
    "forecast_val.tail(10)"
   ]
  },
  {
   "cell_type": "code",
   "execution_count": 29,
   "metadata": {},
   "outputs": [
    {
     "data": {
      "text/plain": [
       "array([33690.1075426 , 34200.83878269, 34718.04965259, 35241.80333041,\n",
       "       35772.16336162, 36309.19365842, 36852.958499  , 37403.52252676,\n",
       "       37960.95074959, 38525.30853898])"
      ]
     },
     "execution_count": 29,
     "metadata": {},
     "output_type": "execute_result"
    }
   ],
   "source": [
    "forecast_val.values"
   ]
  },
  {
   "cell_type": "markdown",
   "metadata": {},
   "source": [
    "## 3.3 ARIMA Results: Forecasting for the Next 10 Years"
   ]
  },
  {
   "cell_type": "code",
   "execution_count": 30,
   "metadata": {},
   "outputs": [
    {
     "data": {
      "image/png": "[encoded data removed]"
     },
     "metadata": {},
     "output_type": "display_data"
    }
   ],
   "source": [
    "# Plotting the Results\n",
    "fig = go.Figure()\n",
    "\n",
    "fig.update_layout(\n",
    "    width = 1000,\n",
    "    height = 800,\n",
    "    title = dict(\n",
    "        text = 'Total World CO2 Emissions: Forecasting',\n",
    "        font = dict(\n",
    "            family = 'Arial',\n",
    "            size = 30\n",
    "        ),\n",
    "        x = 0.5\n",
    "    )\n",
    ")\n",
    "\n",
    "fig.update_xaxes(\n",
    "    title_text = 'Date',\n",
    "    title_font = {'size': 20}\n",
    ")\n",
    "\n",
    "fig.update_yaxes(\n",
    "    title_text = 'Million Tonnes of CO2 Emmitted into the Atmosphere',\n",
    "    title_font = {'size': 20}\n",
    ")\n",
    "\n",
    "fig.add_trace(\n",
    "    go.Scatter(\n",
    "        x = df['date'],\n",
    "        y = df['co2'],\n",
    "        mode = 'lines',\n",
    "        name = 'Ground Truth',\n",
    "        marker = dict(\n",
    "            color = 'darkblue',\n",
    "            size = 15\n",
    "        )\n",
    "    )\n",
    ")\n",
    "\n",
    "fig.add_trace(\n",
    "    go.Scatter(\n",
    "        x = forecast_val.index,\n",
    "        y = forecast_val.values,\n",
    "        mode = 'lines',\n",
    "        name = 'Forecast using ARIMA Model',\n",
    "        marker = dict(\n",
    "            color = 'red',\n",
    "            size = 15\n",
    "        )\n",
    "    )\n",
    ")\n",
    "\n",
    "fig.show('png')"
   ]
  },
  {
   "cell_type": "markdown",
   "metadata": {},
   "source": [
    "# 4. Forecasting Comparison: ARIMA vs. LSTM Model"
   ]
  },
  {
   "cell_type": "code",
   "execution_count": 32,
   "metadata": {},
   "outputs": [
    {
     "data": {
      "application/vnd.plotly.v1+json": {
       "config": {
        "plotlyServerURL": "https://plot.ly"
       },
       "data": [
        {
         "marker": {
          "color": "darkblue",
          "size": 15
         },
         "mode": "lines",
         "name": "Ground Truth",
         "type": "scatter",
         "x": [
          "1750-12-31T00:00:00",
          "1751-12-31T00:00:00",
          "1752-12-31T00:00:00",
          "1753-12-31T00:00:00",
          "1754-12-31T00:00:00",
          "1755-12-31T00:00:00",
          "1756-12-31T00:00:00",
          "1757-12-31T00:00:00",
          "1758-12-31T00:00:00",
          "1759-12-31T00:00:00",
          "1760-12-31T00:00:00",
          "1761-12-31T00:00:00",
          "1762-12-31T00:00:00",
          "1763-12-31T00:00:00",
          "1764-12-31T00:00:00",
          "1765-12-31T00:00:00",
          "1766-12-31T00:00:00",
          "1767-12-31T00:00:00",
          "1768-12-31T00:00:00",
          "1769-12-31T00:00:00",
          "1770-12-31T00:00:00",
          "1771-12-31T00:00:00",
          "1772-12-31T00:00:00",
          "1773-12-31T00:00:00",
          "1774-12-31T00:00:00",
          "1775-12-31T00:00:00",
          "1776-12-31T00:00:00",
          "1777-12-31T00:00:00",
          "1778-12-31T00:00:00",
          "1779-12-31T00:00:00",
          "1780-12-31T00:00:00",
          "1781-12-31T00:00:00",
          "1782-12-31T00:00:00",
          "1783-12-31T00:00:00",
          "1784-12-31T00:00:00",
          "1785-12-31T00:00:00",
          "1786-12-31T00:00:00",
          "1787-12-31T00:00:00",
          "1788-12-31T00:00:00",
          "1789-12-31T00:00:00",
          "1790-12-31T00:00:00",
          "1791-12-31T00:00:00",
          "1792-12-31T00:00:00",
          "1793-12-31T00:00:00",
          "1794-12-31T00:00:00",
          "1795-12-31T00:00:00",
          "1796-12-31T00:00:00",
          "1797-12-31T00:00:00",
          "1798-12-31T00:00:00",
          "1799-12-31T00:00:00",
          "1800-12-31T00:00:00",
          "1801-12-31T00:00:00",
          "1802-12-31T00:00:00",
          "1803-12-31T00:00:00",
          "1804-12-31T00:00:00",
          "1805-12-31T00:00:00",
          "1806-12-31T00:00:00",
          "1807-12-31T00:00:00",
          "1808-12-31T00:00:00",
          "1809-12-31T00:00:00",
          "1810-12-31T00:00:00",
          "1811-12-31T00:00:00",
          "1812-12-31T00:00:00",
          "1813-12-31T00:00:00",
          "1814-12-31T00:00:00",
          "1815-12-31T00:00:00",
          "1816-12-31T00:00:00",
          "1817-12-31T00:00:00",
          "1818-12-31T00:00:00",
          "1819-12-31T00:00:00",
          "1820-12-31T00:00:00",
          "1821-12-31T00:00:00",
          "1822-12-31T00:00:00",
          "1823-12-31T00:00:00",
          "1824-12-31T00:00:00",
          "1825-12-31T00:00:00",
          "1826-12-31T00:00:00",
          "1827-12-31T00:00:00",
          "1828-12-31T00:00:00",
          "1829-12-31T00:00:00",
          "1830-12-31T00:00:00",
          "1831-12-31T00:00:00",
          "1832-12-31T00:00:00",
          "1833-12-31T00:00:00",
          "1834-12-31T00:00:00",
          "1835-12-31T00:00:00",
          "1836-12-31T00:00:00",
          "1837-12-31T00:00:00",
          "1838-12-31T00:00:00",
          "1839-12-31T00:00:00",
          "1840-12-31T00:00:00",
          "1841-12-31T00:00:00",
          "1842-12-31T00:00:00",
          "1843-12-31T00:00:00",
          "1844-12-31T00:00:00",
          "1845-12-31T00:00:00",
          "1846-12-31T00:00:00",
          "1847-12-31T00:00:00",
          "1848-12-31T00:00:00",
          "1849-12-31T00:00:00",
          "1850-12-31T00:00:00",
          "1851-12-31T00:00:00",
          "1852-12-31T00:00:00",
          "1853-12-31T00:00:00",
          "1854-12-31T00:00:00",
          "1855-12-31T00:00:00",
          "1856-12-31T00:00:00",
          "1857-12-31T00:00:00",
          "1858-12-31T00:00:00",
          "1859-12-31T00:00:00",
          "1860-12-31T00:00:00",
          "1861-12-31T00:00:00",
          "1862-12-31T00:00:00",
          "1863-12-31T00:00:00",
          "1864-12-31T00:00:00",
          "1865-12-31T00:00:00",
          "1866-12-31T00:00:00",
          "1867-12-31T00:00:00",
          "1868-12-31T00:00:00",
          "1869-12-31T00:00:00",
          "1870-12-31T00:00:00",
          "1871-12-31T00:00:00",
          "1872-12-31T00:00:00",
          "1873-12-31T00:00:00",
          "1874-12-31T00:00:00",
          "1875-12-31T00:00:00",
          "1876-12-31T00:00:00",
          "1877-12-31T00:00:00",
          "1878-12-31T00:00:00",
          "1879-12-31T00:00:00",
          "1880-12-31T00:00:00",
          "1881-12-31T00:00:00",
          "1882-12-31T00:00:00",
          "1883-12-31T00:00:00",
          "1884-12-31T00:00:00",
          "1885-12-31T00:00:00",
          "1886-12-31T00:00:00",
          "1887-12-31T00:00:00",
          "1888-12-31T00:00:00",
          "1889-12-31T00:00:00",
          "1890-12-31T00:00:00",
          "1891-12-31T00:00:00",
          "1892-12-31T00:00:00",
          "1893-12-31T00:00:00",
          "1894-12-31T00:00:00",
          "1895-12-31T00:00:00",
          "1896-12-31T00:00:00",
          "1897-12-31T00:00:00",
          "1898-12-31T00:00:00",
          "1899-12-31T00:00:00",
          "1900-12-31T00:00:00",
          "1901-12-31T00:00:00",
          "1902-12-31T00:00:00",
          "1903-12-31T00:00:00",
          "1904-12-31T00:00:00",
          "1905-12-31T00:00:00",
          "1906-12-31T00:00:00",
          "1907-12-31T00:00:00",
          "1908-12-31T00:00:00",
          "1909-12-31T00:00:00",
          "1910-12-31T00:00:00",
          "1911-12-31T00:00:00",
          "1912-12-31T00:00:00",
          "1913-12-31T00:00:00",
          "1914-12-31T00:00:00",
          "1915-12-31T00:00:00",
          "1916-12-31T00:00:00",
          "1917-12-31T00:00:00",
          "1918-12-31T00:00:00",
          "1919-12-31T00:00:00",
          "1920-12-31T00:00:00",
          "1921-12-31T00:00:00",
          "1922-12-31T00:00:00",
          "1923-12-31T00:00:00",
          "1924-12-31T00:00:00",
          "1925-12-31T00:00:00",
          "1926-12-31T00:00:00",
          "1927-12-31T00:00:00",
          "1928-12-31T00:00:00",
          "1929-12-31T00:00:00",
          "1930-12-31T00:00:00",
          "1931-12-31T00:00:00",
          "1932-12-31T00:00:00",
          "1933-12-31T00:00:00",
          "1934-12-31T00:00:00",
          "1935-12-31T00:00:00",
          "1936-12-31T00:00:00",
          "1937-12-31T00:00:00",
          "1938-12-31T00:00:00",
          "1939-12-31T00:00:00",
          "1940-12-31T00:00:00",
          "1941-12-31T00:00:00",
          "1942-12-31T00:00:00",
          "1943-12-31T00:00:00",
          "1944-12-31T00:00:00",
          "1945-12-31T00:00:00",
          "1946-12-31T00:00:00",
          "1947-12-31T00:00:00",
          "1948-12-31T00:00:00",
          "1949-12-31T00:00:00",
          "1950-12-31T00:00:00",
          "1951-12-31T00:00:00",
          "1952-12-31T00:00:00",
          "1953-12-31T00:00:00",
          "1954-12-31T00:00:00",
          "1955-12-31T00:00:00",
          "1956-12-31T00:00:00",
          "1957-12-31T00:00:00",
          "1958-12-31T00:00:00",
          "1959-12-31T00:00:00",
          "1960-12-31T00:00:00",
          "1961-12-31T00:00:00",
          "1962-12-31T00:00:00",
          "1963-12-31T00:00:00",
          "1964-12-31T00:00:00",
          "1965-12-31T00:00:00",
          "1966-12-31T00:00:00",
          "1967-12-31T00:00:00",
          "1968-12-31T00:00:00",
          "1969-12-31T00:00:00",
          "1970-12-31T00:00:00",
          "1971-12-31T00:00:00",
          "1972-12-31T00:00:00",
          "1973-12-31T00:00:00",
          "1974-12-31T00:00:00",
          "1975-12-31T00:00:00",
          "1976-12-31T00:00:00",
          "1977-12-31T00:00:00",
          "1978-12-31T00:00:00",
          "1979-12-31T00:00:00",
          "1980-12-31T00:00:00",
          "1981-12-31T00:00:00",
          "1982-12-31T00:00:00",
          "1983-12-31T00:00:00",
          "1984-12-31T00:00:00",
          "1985-12-31T00:00:00",
          "1986-12-31T00:00:00",
          "1987-12-31T00:00:00",
          "1988-12-31T00:00:00",
          "1989-12-31T00:00:00",
          "1990-12-31T00:00:00",
          "1991-12-31T00:00:00",
          "1992-12-31T00:00:00",
          "1993-12-31T00:00:00",
          "1994-12-31T00:00:00",
          "1995-12-31T00:00:00",
          "1996-12-31T00:00:00",
          "1997-12-31T00:00:00",
          "1998-12-31T00:00:00",
          "1999-12-31T00:00:00",
          "2000-12-31T00:00:00",
          "2001-12-31T00:00:00",
          "2002-12-31T00:00:00",
          "2003-12-31T00:00:00",
          "2004-12-31T00:00:00",
          "2005-12-31T00:00:00",
          "2006-12-31T00:00:00",
          "2007-12-31T00:00:00",
          "2008-12-31T00:00:00",
          "2009-12-31T00:00:00",
          "2010-12-31T00:00:00",
          "2011-12-31T00:00:00",
          "2012-12-31T00:00:00",
          "2013-12-31T00:00:00",
          "2014-12-31T00:00:00",
          "2015-12-31T00:00:00",
          "2016-12-31T00:00:00",
          "2017-12-31T00:00:00",
          "2018-12-31T00:00:00",
          "2019-12-31T00:00:00",
          "2020-12-31T00:00:00"
         ],
         "y": [
          12.760644104803493,
          12.760644104803493,
          12.764737991266374,
          12.764737991266374,
          12.770196506550219,
          12.775655021834062,
          13.654475982532752,
          13.659934497816593,
          13.665393013100434,
          13.669486899563317,
          13.669486899563317,
          14.975436681222709,
          14.97953056768559,
          14.984989082969433,
          14.990447598253274,
          14.994541484716155,
          16.730349344978166,
          16.73444323144105,
          16.73990174672489,
          16.745360262008735,
          16.749454148471614,
          18.57532751091703,
          18.579421397379914,
          18.584879912663755,
          18.590338427947597,
          18.59443231441048,
          20.519923580786028,
          20.52538209606987,
          20.529475982532748,
          20.534934497816593,
          20.54448689956332,
          22.98444323144105,
          22.989901746724893,
          22.999454148471614,
          23.00491266375546,
          23.018831877729255,
          26.13427947598253,
          26.143831877729255,
          26.149290393013096,
          26.158842794759824,
          26.169486899563314,
          29.229257641921397,
          29.87882096069869,
          29.90447598253275,
          29.858897379912666,
          29.874454148471614,
          31.319596069868993,
          32.879366812227076,
          34.244268558951966,
          36.06441048034934,
          38.196233624454145,
          38.008187772925766,
          50.03629912663755,
          42.80704148471616,
          46.637554585152834,
          45.41839519650655,
          47.64192139737991,
          50.112445414847166,
          47.635371179039296,
          47.66402838427947,
          50.7811135371179,
          53.77074235807861,
          55.694868995633186,
          55.964792576419214,
          57.18286026200873,
          59.01637554585153,
          64.68204148471615,
          67.06195414847161,
          67.31768558951964,
          67.74344978165938,
          68.73717248908297,
          69.73717248908297,
          72.48689956331877,
          76.67712882096069,
          79.31004366812226,
          82.28902838427948,
          83.09661572052401,
          89.15856986899564,
          90.06413755458514,
          89.62363537117903,
          120.47816593886463,
          114.11189956331877,
          114.49317685589519,
          116.53220524017466,
          118.90365720524018,
          121.06850436681223,
          140.39737991266375,
          139.9683406113537,
          144.69350436681222,
          149.29721615720524,
          159.08870087336246,
          163.9375,
          172.9481441048035,
          177.05649563318778,
          187.90993449781658,
          205.68859170305677,
          208.38564410480348,
          227.0302947598253,
          228.02156113537117,
          240.46615720524017,
          257.86708515283846,
          257.8299672489083,
          268.58242358078604,
          279.91812227074234,
          330.0362991266375,
          334.1481986899563,
          356.4969978165939,
          359.47570960698687,
          364.75163755458516,
          385.9909934497816,
          424.680403930131,
          448.8930131004367,
          456.58433406113534,
          484.95060043668127,
          522.7903930131004,
          556.9451419213973,
          575.0373908296942,
          611.1795851528384,
          623.948962882096,
          659.2759279475982,
          672.0499454148471,
          715.248635371179,
          784.6825873362444,
          830.748635371179,
          775.4989082969431,
          846.4383187772925,
          861.2731986899563,
          871.7797489082969,
          879.4841703056768,
          930.7011462882095,
          1051.3911026200872,
          1084.345251091703,
          1137.457150655022,
          1207.2701965065503,
          1214.2701965065503,
          1221.8586244541484,
          1234.6542030567684,
          1292.2262554585154,
          1412.0387554585152,
          1431.727347161572,
          1540.367903930131,
          1607.5035480349345,
          1609.3837336244542,
          1583.3673580786024,
          1662.3114082969432,
          1745.3277838427946,
          1809.3924672489081,
          1896.4429585152839,
          1988.434770742358,
          2156.3919213973795,
          2271.4926310043666,
          2320.9495087336245,
          2363.9143013100434,
          2546.1722161572047,
          2582.842521834061,
          2724.9650655021837,
          2849.7399017467246,
          3206.1593886462883,
          3131.656659388646,
          3223.2609170305677,
          3351.332150655022,
          3420.8403384279477,
          3575.7887554585154,
          3871.8234170305673,
          3498.2262554585154,
          3415.9456877729253,
          3663.588427947598,
          3782.211790393013,
          3668.1078056768556,
          3174.959061135371,
          3693.385098253275,
          3275.693504366812,
          3475.9312227074233,
          3803.5493995633187,
          3922.40365720524,
          3945.5775109170304,
          3772.019104803493,
          4247.168941048035,
          4237.472434497817,
          4558.572598253275,
          4230.505458515284,
          3817.4999999999995,
          3471.666211790393,
          3638.934770742358,
          3966.9656113537117,
          4164.229530567685,
          4540.064410480349,
          4872.756823144105,
          4663.81058951965,
          4894.703602620087,
          5318.35616812227,
          5359.237172489083,
          5252.245633187773,
          5331.400109170306,
          5339.823144104804,
          4256.132641921397,
          4810.910753275109,
          5373.518013100436,
          5682.964519650655,
          5663.451692139737,
          6330.058951965065,
          6759.059497816594,
          6878.663755458515,
          7076.935862445414,
          7299.277292576418,
          7987.042849344978,
          8512.579967248908,
          8814.569868995633,
          9038.55731441048,
          9452.418941048034,
          10040.194323144104,
          10159.107532751092,
          10570.878002183406,
          11164.280840611355,
          11772.4336790393,
          12276.049126637556,
          12840.336244541484,
          13246.874181222707,
          13966.947052401747,
          14875.554039301309,
          16020.345796943231,
          16673.71097161572,
          17418.434770742355,
          18330.62827510917,
          18308.21479257642,
          18374.408569868996,
          19406.308406113538,
          19887.977620087335,
          20498.807041484717,
          21088.667849344976,
          21008.87472707423,
          20473.338155021833,
          20332.3826419214,
          20447.238537117904,
          21052.308133187773,
          21800.46670305677,
          22064.34443231441,
          22594.988537117904,
          23370.967794759825,
          23641.3125,
          24070.640283842793,
          24224.748635371176,
          23500.966430131004,
          23568.01746724891,
          23536.098526200873,
          23921.5106441048,
          24550.649017467247,
          24578.478438864626,
          24444.905294759825,
          24706.45005458515,
          25381.55731441048,
          25654.85016375546,
          26152.109989082965,
          27385.484170305677,
          28474.503002183403,
          29299.889465065502,
          30190.06522925764,
          30935.277019650654,
          31392.19787117904,
          30748.111626637554,
          32367.336244541486,
          33303.927947598255,
          33771.42958515284,
          33936.14383187773,
          34046.62581877729,
          34055.81195414847,
          34035.382641921395,
          34471.81113537118,
          35058.007096069865,
          35049.91457423581,
          33185.79312227074
         ]
        },
        {
         "marker": {
          "color": "orange",
          "size": 15
         },
         "mode": "lines",
         "name": "Forecast using LSTM RNN Model",
         "type": "scatter",
         "x": [
          "2021-12-31T00:00:00",
          "2022-12-31T00:00:00",
          "2023-12-31T00:00:00",
          "2024-12-31T00:00:00",
          "2025-12-31T00:00:00",
          "2026-12-31T00:00:00",
          "2027-12-31T00:00:00",
          "2028-12-31T00:00:00",
          "2029-12-31T00:00:00",
          "2030-12-31T00:00:00"
         ],
         "y": [
          35438.044654421574,
          35817.66402360871,
          36139.763356459225,
          36382.41284660533,
          36566.81393949902,
          36729.19162140926,
          36889.492450909056,
          37043.355037936475,
          37182.57142775389,
          37305.073543383565
         ]
        },
        {
         "marker": {
          "color": "red",
          "size": 15
         },
         "mode": "lines",
         "name": "Forecast using ARIMA Model",
         "type": "scatter",
         "x": [
          "2021-12-31T00:00:00",
          "2022-12-31T00:00:00",
          "2023-12-31T00:00:00",
          "2024-12-31T00:00:00",
          "2025-12-31T00:00:00",
          "2026-12-31T00:00:00",
          "2027-12-31T00:00:00",
          "2028-12-31T00:00:00",
          "2029-12-31T00:00:00",
          "2030-12-31T00:00:00"
         ],
         "y": [
          33690.107542603975,
          34200.8387826901,
          34718.04965259104,
          35241.80333040542,
          35772.16336161943,
          36309.1936584242,
          36852.958498999455,
          37403.52252676324,
          37960.95074958818,
          38525.30853898315
         ]
        }
       ],
       "layout": {
        "height": 800,
        "template": {
         "data": {
          "bar": [
           {
            "error_x": {
             "color": "#2a3f5f"
            },
            "error_y": {
             "color": "#2a3f5f"
            },
            "marker": {
             "line": {
              "color": "#E5ECF6",
              "width": 0.5
             },
             "pattern": {
              "fillmode": "overlay",
              "size": 10,
              "solidity": 0.2
             }
            },
            "type": "bar"
           }
          ],
          "barpolar": [
           {
            "marker": {
             "line": {
              "color": "#E5ECF6",
              "width": 0.5
             },
             "pattern": {
              "fillmode": "overlay",
              "size": 10,
              "solidity": 0.2
             }
            },
            "type": "barpolar"
           }
          ],
          "carpet": [
           {
            "aaxis": {
             "endlinecolor": "#2a3f5f",
             "gridcolor": "white",
             "linecolor": "white",
             "minorgridcolor": "white",
             "startlinecolor": "#2a3f5f"
            },
            "baxis": {
             "endlinecolor": "#2a3f5f",
             "gridcolor": "white",
             "linecolor": "white",
             "minorgridcolor": "white",
             "startlinecolor": "#2a3f5f"
            },
            "type": "carpet"
           }
          ],
          "choropleth": [
           {
            "colorbar": {
             "outlinewidth": 0,
             "ticks": ""
            },
            "type": "choropleth"
           }
          ],
          "contour": [
           {
            "colorbar": {
             "outlinewidth": 0,
             "ticks": ""
            },
            "colorscale": [
             [
              0,
              "#0d0887"
             ],
             [
              0.1111111111111111,
              "#46039f"
             ],
             [
              0.2222222222222222,
              "#7201a8"
             ],
             [
              0.3333333333333333,
              "#9c179e"
             ],
             [
              0.4444444444444444,
              "#bd3786"
             ],
             [
              0.5555555555555556,
              "#d8576b"
             ],
             [
              0.6666666666666666,
              "#ed7953"
             ],
             [
              0.7777777777777778,
              "#fb9f3a"
             ],
             [
              0.8888888888888888,
              "#fdca26"
             ],
             [
              1,
              "#f0f921"
             ]
            ],
            "type": "contour"
           }
          ],
          "contourcarpet": [
           {
            "colorbar": {
             "outlinewidth": 0,
             "ticks": ""
            },
            "type": "contourcarpet"
           }
          ],
          "heatmap": [
           {
            "colorbar": {
             "outlinewidth": 0,
             "ticks": ""
            },
            "colorscale": [
             [
              0,
              "#0d0887"
             ],
             [
              0.1111111111111111,
              "#46039f"
             ],
             [
              0.2222222222222222,
              "#7201a8"
             ],
             [
              0.3333333333333333,
              "#9c179e"
             ],
             [
              0.4444444444444444,
              "#bd3786"
             ],
             [
              0.5555555555555556,
              "#d8576b"
             ],
             [
              0.6666666666666666,
              "#ed7953"
             ],
             [
              0.7777777777777778,
              "#fb9f3a"
             ],
             [
              0.8888888888888888,
              "#fdca26"
             ],
             [
              1,
              "#f0f921"
             ]
            ],
            "type": "heatmap"
           }
          ],
          "heatmapgl": [
           {
            "colorbar": {
             "outlinewidth": 0,
             "ticks": ""
            },
            "colorscale": [
             [
              0,
              "#0d0887"
             ],
             [
              0.1111111111111111,
              "#46039f"
             ],
             [
              0.2222222222222222,
              "#7201a8"
             ],
             [
              0.3333333333333333,
              "#9c179e"
             ],
             [
              0.4444444444444444,
              "#bd3786"
             ],
             [
              0.5555555555555556,
              "#d8576b"
             ],
             [
              0.6666666666666666,
              "#ed7953"
             ],
             [
              0.7777777777777778,
              "#fb9f3a"
             ],
             [
              0.8888888888888888,
              "#fdca26"
             ],
             [
              1,
              "#f0f921"
             ]
            ],
            "type": "heatmapgl"
           }
          ],
          "histogram": [
           {
            "marker": {
             "pattern": {
              "fillmode": "overlay",
              "size": 10,
              "solidity": 0.2
             }
            },
            "type": "histogram"
           }
          ],
          "histogram2d": [
           {
            "colorbar": {
             "outlinewidth": 0,
             "ticks": ""
            },
            "colorscale": [
             [
              0,
              "#0d0887"
             ],
             [
              0.1111111111111111,
              "#46039f"
             ],
             [
              0.2222222222222222,
              "#7201a8"
             ],
             [
              0.3333333333333333,
              "#9c179e"
             ],
             [
              0.4444444444444444,
              "#bd3786"
             ],
             [
              0.5555555555555556,
              "#d8576b"
             ],
             [
              0.6666666666666666,
              "#ed7953"
             ],
             [
              0.7777777777777778,
              "#fb9f3a"
             ],
             [
              0.8888888888888888,
              "#fdca26"
             ],
             [
              1,
              "#f0f921"
             ]
            ],
            "type": "histogram2d"
           }
          ],
          "histogram2dcontour": [
           {
            "colorbar": {
             "outlinewidth": 0,
             "ticks": ""
            },
            "colorscale": [
             [
              0,
              "#0d0887"
             ],
             [
              0.1111111111111111,
              "#46039f"
             ],
             [
              0.2222222222222222,
              "#7201a8"
             ],
             [
              0.3333333333333333,
              "#9c179e"
             ],
             [
              0.4444444444444444,
              "#bd3786"
             ],
             [
              0.5555555555555556,
              "#d8576b"
             ],
             [
              0.6666666666666666,
              "#ed7953"
             ],
             [
              0.7777777777777778,
              "#fb9f3a"
             ],
             [
              0.8888888888888888,
              "#fdca26"
             ],
             [
              1,
              "#f0f921"
             ]
            ],
            "type": "histogram2dcontour"
           }
          ],
          "mesh3d": [
           {
            "colorbar": {
             "outlinewidth": 0,
             "ticks": ""
            },
            "type": "mesh3d"
           }
          ],
          "parcoords": [
           {
            "line": {
             "colorbar": {
              "outlinewidth": 0,
              "ticks": ""
             }
            },
            "type": "parcoords"
           }
          ],
          "pie": [
           {
            "automargin": true,
            "type": "pie"
           }
          ],
          "scatter": [
           {
            "fillpattern": {
             "fillmode": "overlay",
             "size": 10,
             "solidity": 0.2
            },
            "type": "scatter"
           }
          ],
          "scatter3d": [
           {
            "line": {
             "colorbar": {
              "outlinewidth": 0,
              "ticks": ""
             }
            },
            "marker": {
             "colorbar": {
              "outlinewidth": 0,
              "ticks": ""
             }
            },
            "type": "scatter3d"
           }
          ],
          "scattercarpet": [
           {
            "marker": {
             "colorbar": {
              "outlinewidth": 0,
              "ticks": ""
             }
            },
            "type": "scattercarpet"
           }
          ],
          "scattergeo": [
           {
            "marker": {
             "colorbar": {
              "outlinewidth": 0,
              "ticks": ""
             }
            },
            "type": "scattergeo"
           }
          ],
          "scattergl": [
           {
            "marker": {
             "colorbar": {
              "outlinewidth": 0,
              "ticks": ""
             }
            },
            "type": "scattergl"
           }
          ],
          "scattermapbox": [
           {
            "marker": {
             "colorbar": {
              "outlinewidth": 0,
              "ticks": ""
             }
            },
            "type": "scattermapbox"
           }
          ],
          "scatterpolar": [
           {
            "marker": {
             "colorbar": {
              "outlinewidth": 0,
              "ticks": ""
             }
            },
            "type": "scatterpolar"
           }
          ],
          "scatterpolargl": [
           {
            "marker": {
             "colorbar": {
              "outlinewidth": 0,
              "ticks": ""
             }
            },
            "type": "scatterpolargl"
           }
          ],
          "scatterternary": [
           {
            "marker": {
             "colorbar": {
              "outlinewidth": 0,
              "ticks": ""
             }
            },
            "type": "scatterternary"
           }
          ],
          "surface": [
           {
            "colorbar": {
             "outlinewidth": 0,
             "ticks": ""
            },
            "colorscale": [
             [
              0,
              "#0d0887"
             ],
             [
              0.1111111111111111,
              "#46039f"
             ],
             [
              0.2222222222222222,
              "#7201a8"
             ],
             [
              0.3333333333333333,
              "#9c179e"
             ],
             [
              0.4444444444444444,
              "#bd3786"
             ],
             [
              0.5555555555555556,
              "#d8576b"
             ],
             [
              0.6666666666666666,
              "#ed7953"
             ],
             [
              0.7777777777777778,
              "#fb9f3a"
             ],
             [
              0.8888888888888888,
              "#fdca26"
             ],
             [
              1,
              "#f0f921"
             ]
            ],
            "type": "surface"
           }
          ],
          "table": [
           {
            "cells": {
             "fill": {
              "color": "#EBF0F8"
             },
             "line": {
              "color": "white"
             }
            },
            "header": {
             "fill": {
              "color": "#C8D4E3"
             },
             "line": {
              "color": "white"
             }
            },
            "type": "table"
           }
          ]
         },
         "layout": {
          "annotationdefaults": {
           "arrowcolor": "#2a3f5f",
           "arrowhead": 0,
           "arrowwidth": 1
          },
          "autotypenumbers": "strict",
          "coloraxis": {
           "colorbar": {
            "outlinewidth": 0,
            "ticks": ""
           }
          },
          "colorscale": {
           "diverging": [
            [
             0,
             "#8e0152"
            ],
            [
             0.1,
             "#c51b7d"
            ],
            [
             0.2,
             "#de77ae"
            ],
            [
             0.3,
             "#f1b6da"
            ],
            [
             0.4,
             "#fde0ef"
            ],
            [
             0.5,
             "#f7f7f7"
            ],
            [
             0.6,
             "#e6f5d0"
            ],
            [
             0.7,
             "#b8e186"
            ],
            [
             0.8,
             "#7fbc41"
            ],
            [
             0.9,
             "#4d9221"
            ],
            [
             1,
             "#276419"
            ]
           ],
           "sequential": [
            [
             0,
             "#0d0887"
            ],
            [
             0.1111111111111111,
             "#46039f"
            ],
            [
             0.2222222222222222,
             "#7201a8"
            ],
            [
             0.3333333333333333,
             "#9c179e"
            ],
            [
             0.4444444444444444,
             "#bd3786"
            ],
            [
             0.5555555555555556,
             "#d8576b"
            ],
            [
             0.6666666666666666,
             "#ed7953"
            ],
            [
             0.7777777777777778,
             "#fb9f3a"
            ],
            [
             0.8888888888888888,
             "#fdca26"
            ],
            [
             1,
             "#f0f921"
            ]
           ],
           "sequentialminus": [
            [
             0,
             "#0d0887"
            ],
            [
             0.1111111111111111,
             "#46039f"
            ],
            [
             0.2222222222222222,
             "#7201a8"
            ],
            [
             0.3333333333333333,
             "#9c179e"
            ],
            [
             0.4444444444444444,
             "#bd3786"
            ],
            [
             0.5555555555555556,
             "#d8576b"
            ],
            [
             0.6666666666666666,
             "#ed7953"
            ],
            [
             0.7777777777777778,
             "#fb9f3a"
            ],
            [
             0.8888888888888888,
             "#fdca26"
            ],
            [
             1,
             "#f0f921"
            ]
           ]
          },
          "colorway": [
           "#636efa",
           "#EF553B",
           "#00cc96",
           "#ab63fa",
           "#FFA15A",
           "#19d3f3",
           "#FF6692",
           "#B6E880",
           "#FF97FF",
           "#FECB52"
          ],
          "font": {
           "color": "#2a3f5f"
          },
          "geo": {
           "bgcolor": "white",
           "lakecolor": "white",
           "landcolor": "#E5ECF6",
           "showlakes": true,
           "showland": true,
           "subunitcolor": "white"
          },
          "hoverlabel": {
           "align": "left"
          },
          "hovermode": "closest",
          "mapbox": {
           "style": "light"
          },
          "paper_bgcolor": "white",
          "plot_bgcolor": "#E5ECF6",
          "polar": {
           "angularaxis": {
            "gridcolor": "white",
            "linecolor": "white",
            "ticks": ""
           },
           "bgcolor": "#E5ECF6",
           "radialaxis": {
            "gridcolor": "white",
            "linecolor": "white",
            "ticks": ""
           }
          },
          "scene": {
           "xaxis": {
            "backgroundcolor": "#E5ECF6",
            "gridcolor": "white",
            "gridwidth": 2,
            "linecolor": "white",
            "showbackground": true,
            "ticks": "",
            "zerolinecolor": "white"
           },
           "yaxis": {
            "backgroundcolor": "#E5ECF6",
            "gridcolor": "white",
            "gridwidth": 2,
            "linecolor": "white",
            "showbackground": true,
            "ticks": "",
            "zerolinecolor": "white"
           },
           "zaxis": {
            "backgroundcolor": "#E5ECF6",
            "gridcolor": "white",
            "gridwidth": 2,
            "linecolor": "white",
            "showbackground": true,
            "ticks": "",
            "zerolinecolor": "white"
           }
          },
          "shapedefaults": {
           "line": {
            "color": "#2a3f5f"
           }
          },
          "ternary": {
           "aaxis": {
            "gridcolor": "white",
            "linecolor": "white",
            "ticks": ""
           },
           "baxis": {
            "gridcolor": "white",
            "linecolor": "white",
            "ticks": ""
           },
           "bgcolor": "#E5ECF6",
           "caxis": {
            "gridcolor": "white",
            "linecolor": "white",
            "ticks": ""
           }
          },
          "title": {
           "x": 0.05
          },
          "xaxis": {
           "automargin": true,
           "gridcolor": "white",
           "linecolor": "white",
           "ticks": "",
           "title": {
            "standoff": 15
           },
           "zerolinecolor": "white",
           "zerolinewidth": 2
          },
          "yaxis": {
           "automargin": true,
           "gridcolor": "white",
           "linecolor": "white",
           "ticks": "",
           "title": {
            "standoff": 15
           },
           "zerolinecolor": "white",
           "zerolinewidth": 2
          }
         }
        },
        "title": {
         "font": {
          "family": "Arial",
          "size": 30
         },
         "text": "Total World CO2 Emissions Forecasting: ARIMA vs. LSTM Models",
         "x": 0.5
        },
        "width": 1000,
        "xaxis": {
         "title": {
          "font": {
           "size": 20
          },
          "text": "Date"
         }
        },
        "yaxis": {
         "title": {
          "font": {
           "size": 20
          },
          "text": "Million Tonnes of CO2 Emmitted into the Atmosphere"
         }
        }
       }
      }
     },
     "metadata": {},
     "output_type": "display_data"
    }
   ],
   "source": [
    "# Plotting the Results\n",
    "fig = go.Figure()\n",
    "\n",
    "fig.update_layout(\n",
    "    width = 1000,\n",
    "    height = 800,\n",
    "    title = dict(\n",
    "        text = 'Total World CO2 Emissions Forecasting: ARIMA vs. LSTM Models',\n",
    "        font = dict(\n",
    "            family = 'Arial',\n",
    "            size = 30\n",
    "        ),\n",
    "        x = 0.5\n",
    "    )\n",
    ")\n",
    "\n",
    "fig.update_xaxes(\n",
    "    title_text = 'Date',\n",
    "    title_font = {'size': 20}\n",
    ")\n",
    "\n",
    "fig.update_yaxes(\n",
    "    title_text = 'Million Tonnes of CO2 Emmitted into the Atmosphere',\n",
    "    title_font = {'size': 20}\n",
    ")\n",
    "\n",
    "fig.add_trace(\n",
    "    go.Scatter(\n",
    "        x = df['date'],\n",
    "        y = df['co2'],\n",
    "        mode = 'lines',\n",
    "        name = 'Ground Truth',\n",
    "        marker = dict(\n",
    "            color = 'darkblue',\n",
    "            size = 15\n",
    "        )\n",
    "    )\n",
    ")\n",
    "\n",
    "fig.add_trace(\n",
    "    go.Scatter(\n",
    "        x = forecast['date'],\n",
    "        y = forecast['co2_forecasted'],\n",
    "        mode = 'lines',\n",
    "        name = 'Forecast using LSTM RNN Model',\n",
    "        marker = dict(\n",
    "            color = 'orange',\n",
    "            size = 15\n",
    "        )\n",
    "    )\n",
    ")\n",
    "\n",
    "fig.add_trace(\n",
    "    go.Scatter(\n",
    "        x = forecast_val.index,\n",
    "        y = forecast_val.values,\n",
    "        mode = 'lines',\n",
    "        name = 'Forecast using ARIMA Model',\n",
    "        marker = dict(\n",
    "            color = 'red',\n",
    "            size = 15\n",
    "        )\n",
    "    )\n",
    ")\n",
    "\n",
    "fig.show()"
   ]
  },
  {
   "cell_type": "markdown",
   "metadata": {},
   "source": [
    "## Final Discussion\n",
    "- Clearly, both models show an upward trend\n",
    "- While the LSTM Model exhibits a deceleration over time in the behavior of the CO2 Emissions, the ARIMA Model exhibits basically a constant (but high) rate of emission\n",
    "- According to an [IEA article](https://www.iea.org/news/global-co2-emissions-rebounded-to-their-highest-level-in-history-in-2021) the cumulated World's CO2 Emissions in 2021 were 36.3 Billion Tonnes. Considering this:\n",
    "    - The LSTM Model forecasts 35.4 Billion Tonnes for 2021, which underestimates the real value by 2.5%\n",
    "    - The ARIMA Model forecasts 33.7 Billion Tonnes for 2021, which underestimates the real value by 7.2%\n",
    "- According to the information give by the [IEA article](https://www.iea.org/news/global-co2-emissions-rebounded-to-their-highest-level-in-history-in-2021), the LSTM Model would be more precise into forecasting the actual emissions for 2021. Nonetheless, the ARIMA Model starts its prediction after the decrease in emissions due to the pandemic, an therefore might be unaccurate.\n",
    "- Although the LSTM Model shows more precision when compared to the 2021 declared emissions, there are practical differences between both models that are worth discussing:\n",
    "    - The training process of an ARIMA Model is extremely fast. This in comparison with the training and tuning process of the LSTM Model.\n",
    "    - When the availability of data, computational resources and time is restricted, an ARIMA Model is a good way of providing good overall forecasting results.\n",
    "    - When the availability of data, computational resources and time is more relaxed, a LSTM Model can deliver more precise results when needed.\n",
    "- Both results are concerning, and should give us a reality check of the importance of our consumption behavior and habits towards the environment."
   ]
  }
 ],
 "metadata": {
  "kernelspec": {
   "display_name": "Python 3.7.13 ('CO2_emissions')",
   "language": "python",
   "name": "python3"
  },
  "language_info": {
   "codemirror_mode": {
    "name": "ipython",
    "version": 3
   },
   "file_extension": ".py",
   "mimetype": "text/x-python",
   "name": "python",
   "nbconvert_exporter": "python",
   "pygments_lexer": "ipython3",
   "version": "3.7.13"
  },
  "orig_nbformat": 4,
  "vscode": {
   "interpreter": {
    "hash": "58d670b938b8c66b0e557f074045bd60b98dd776773f92acd94d4ffbf850fea9"
   }
  }
 },
 "nbformat": 4,
 "nbformat_minor": 2
}
