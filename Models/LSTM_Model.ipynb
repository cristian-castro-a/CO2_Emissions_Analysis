{
 "cells": [
  {
   "cell_type": "markdown",
   "metadata": {},
   "source": [
    "# World CO2 Emissions Forecasting\n",
    "## LSTM Model\n",
    "[*Cristian Castro Álvarez*](https://github.com/cristian-castro-a)"
   ]
  },
  {
   "cell_type": "markdown",
   "metadata": {},
   "source": [
    "**Goal**: \n",
    "- Forecast the amount of World CO2 emissions (in tonnes) for the next 10 years (2021 - 2030).\n",
    "\n",
    "\n",
    "**Data:**\n",
    "- The data comes from [Our World in Data](https://github.com/owid/co2-data)\n",
    "- Column 'CO2' of the dataframe indicates the Tonnes of CO2 emmitted into the atmosphere.\n",
    "- The dataset includes yearly data from 1750 to 2020, with a total of 271 data points."
   ]
  },
  {
   "cell_type": "code",
   "execution_count": 1,
   "metadata": {},
   "outputs": [],
   "source": [
    "#Libraries\n",
    "import pandas as pd\n",
    "import numpy as np\n",
    "import matplotlib.pyplot as plt\n",
    "import matplotlib as mpl\n",
    "import tensorflow\n",
    "\n",
    "from tensorflow.keras.models import Sequential\n",
    "from tensorflow.keras.layers import *\n",
    "from tensorflow.keras.callbacks import ModelCheckpoint\n",
    "from tensorflow.keras.losses import MeanSquaredError\n",
    "from tensorflow.keras.metrics import RootMeanSquaredError\n",
    "from tensorflow.keras.optimizers import Adam\n",
    "\n",
    "import warnings\n",
    "warnings.filterwarnings(\"ignore\")\n",
    "\n",
    "mpl.rcParams['figure.figsize'] = (15,10)\n",
    "mpl.rcParams['axes.grid'] = False"
   ]
  },
  {
   "cell_type": "markdown",
   "metadata": {},
   "source": [
    "# Data"
   ]
  },
  {
   "cell_type": "code",
   "execution_count": 2,
   "metadata": {},
   "outputs": [
    {
     "data": {
      "text/html": [
       "<div>\n",
       "<style scoped>\n",
       "    .dataframe tbody tr th:only-of-type {\n",
       "        vertical-align: middle;\n",
       "    }\n",
       "\n",
       "    .dataframe tbody tr th {\n",
       "        vertical-align: top;\n",
       "    }\n",
       "\n",
       "    .dataframe thead th {\n",
       "        text-align: right;\n",
       "    }\n",
       "</style>\n",
       "<table border=\"1\" class=\"dataframe\">\n",
       "  <thead>\n",
       "    <tr style=\"text-align: right;\">\n",
       "      <th></th>\n",
       "      <th>iso_code</th>\n",
       "      <th>country</th>\n",
       "      <th>year</th>\n",
       "      <th>co2</th>\n",
       "      <th>co2_per_capita</th>\n",
       "      <th>trade_co2</th>\n",
       "      <th>cement_co2</th>\n",
       "      <th>cement_co2_per_capita</th>\n",
       "      <th>coal_co2</th>\n",
       "      <th>coal_co2_per_capita</th>\n",
       "      <th>...</th>\n",
       "      <th>ghg_excluding_lucf_per_capita</th>\n",
       "      <th>methane</th>\n",
       "      <th>methane_per_capita</th>\n",
       "      <th>nitrous_oxide</th>\n",
       "      <th>nitrous_oxide_per_capita</th>\n",
       "      <th>population</th>\n",
       "      <th>gdp</th>\n",
       "      <th>primary_energy_consumption</th>\n",
       "      <th>energy_per_capita</th>\n",
       "      <th>energy_per_gdp</th>\n",
       "    </tr>\n",
       "  </thead>\n",
       "  <tbody>\n",
       "    <tr>\n",
       "      <th>0</th>\n",
       "      <td>AFG</td>\n",
       "      <td>Afghanistan</td>\n",
       "      <td>1949</td>\n",
       "      <td>0.015</td>\n",
       "      <td>0.002</td>\n",
       "      <td>NaN</td>\n",
       "      <td>NaN</td>\n",
       "      <td>NaN</td>\n",
       "      <td>0.015</td>\n",
       "      <td>0.002</td>\n",
       "      <td>...</td>\n",
       "      <td>NaN</td>\n",
       "      <td>NaN</td>\n",
       "      <td>NaN</td>\n",
       "      <td>NaN</td>\n",
       "      <td>NaN</td>\n",
       "      <td>7624058.0</td>\n",
       "      <td>NaN</td>\n",
       "      <td>NaN</td>\n",
       "      <td>NaN</td>\n",
       "      <td>NaN</td>\n",
       "    </tr>\n",
       "    <tr>\n",
       "      <th>1</th>\n",
       "      <td>AFG</td>\n",
       "      <td>Afghanistan</td>\n",
       "      <td>1950</td>\n",
       "      <td>0.084</td>\n",
       "      <td>0.011</td>\n",
       "      <td>NaN</td>\n",
       "      <td>NaN</td>\n",
       "      <td>NaN</td>\n",
       "      <td>0.021</td>\n",
       "      <td>0.003</td>\n",
       "      <td>...</td>\n",
       "      <td>NaN</td>\n",
       "      <td>NaN</td>\n",
       "      <td>NaN</td>\n",
       "      <td>NaN</td>\n",
       "      <td>NaN</td>\n",
       "      <td>7752117.0</td>\n",
       "      <td>9.421400e+09</td>\n",
       "      <td>NaN</td>\n",
       "      <td>NaN</td>\n",
       "      <td>NaN</td>\n",
       "    </tr>\n",
       "    <tr>\n",
       "      <th>2</th>\n",
       "      <td>AFG</td>\n",
       "      <td>Afghanistan</td>\n",
       "      <td>1951</td>\n",
       "      <td>0.092</td>\n",
       "      <td>0.012</td>\n",
       "      <td>NaN</td>\n",
       "      <td>NaN</td>\n",
       "      <td>NaN</td>\n",
       "      <td>0.026</td>\n",
       "      <td>0.003</td>\n",
       "      <td>...</td>\n",
       "      <td>NaN</td>\n",
       "      <td>NaN</td>\n",
       "      <td>NaN</td>\n",
       "      <td>NaN</td>\n",
       "      <td>NaN</td>\n",
       "      <td>7840151.0</td>\n",
       "      <td>9.692280e+09</td>\n",
       "      <td>NaN</td>\n",
       "      <td>NaN</td>\n",
       "      <td>NaN</td>\n",
       "    </tr>\n",
       "    <tr>\n",
       "      <th>3</th>\n",
       "      <td>AFG</td>\n",
       "      <td>Afghanistan</td>\n",
       "      <td>1952</td>\n",
       "      <td>0.092</td>\n",
       "      <td>0.012</td>\n",
       "      <td>NaN</td>\n",
       "      <td>NaN</td>\n",
       "      <td>NaN</td>\n",
       "      <td>0.032</td>\n",
       "      <td>0.004</td>\n",
       "      <td>...</td>\n",
       "      <td>NaN</td>\n",
       "      <td>NaN</td>\n",
       "      <td>NaN</td>\n",
       "      <td>NaN</td>\n",
       "      <td>NaN</td>\n",
       "      <td>7935996.0</td>\n",
       "      <td>1.001732e+10</td>\n",
       "      <td>NaN</td>\n",
       "      <td>NaN</td>\n",
       "      <td>NaN</td>\n",
       "    </tr>\n",
       "    <tr>\n",
       "      <th>4</th>\n",
       "      <td>AFG</td>\n",
       "      <td>Afghanistan</td>\n",
       "      <td>1953</td>\n",
       "      <td>0.106</td>\n",
       "      <td>0.013</td>\n",
       "      <td>NaN</td>\n",
       "      <td>NaN</td>\n",
       "      <td>NaN</td>\n",
       "      <td>0.038</td>\n",
       "      <td>0.005</td>\n",
       "      <td>...</td>\n",
       "      <td>NaN</td>\n",
       "      <td>NaN</td>\n",
       "      <td>NaN</td>\n",
       "      <td>NaN</td>\n",
       "      <td>NaN</td>\n",
       "      <td>8039684.0</td>\n",
       "      <td>1.063052e+10</td>\n",
       "      <td>NaN</td>\n",
       "      <td>NaN</td>\n",
       "      <td>NaN</td>\n",
       "    </tr>\n",
       "  </tbody>\n",
       "</table>\n",
       "<p>5 rows × 60 columns</p>\n",
       "</div>"
      ],
      "text/plain": [
       "  iso_code      country  year    co2  co2_per_capita  trade_co2  cement_co2  \\\n",
       "0      AFG  Afghanistan  1949  0.015           0.002        NaN         NaN   \n",
       "1      AFG  Afghanistan  1950  0.084           0.011        NaN         NaN   \n",
       "2      AFG  Afghanistan  1951  0.092           0.012        NaN         NaN   \n",
       "3      AFG  Afghanistan  1952  0.092           0.012        NaN         NaN   \n",
       "4      AFG  Afghanistan  1953  0.106           0.013        NaN         NaN   \n",
       "\n",
       "   cement_co2_per_capita  coal_co2  coal_co2_per_capita  ...  \\\n",
       "0                    NaN     0.015                0.002  ...   \n",
       "1                    NaN     0.021                0.003  ...   \n",
       "2                    NaN     0.026                0.003  ...   \n",
       "3                    NaN     0.032                0.004  ...   \n",
       "4                    NaN     0.038                0.005  ...   \n",
       "\n",
       "   ghg_excluding_lucf_per_capita  methane  methane_per_capita  nitrous_oxide  \\\n",
       "0                            NaN      NaN                 NaN            NaN   \n",
       "1                            NaN      NaN                 NaN            NaN   \n",
       "2                            NaN      NaN                 NaN            NaN   \n",
       "3                            NaN      NaN                 NaN            NaN   \n",
       "4                            NaN      NaN                 NaN            NaN   \n",
       "\n",
       "   nitrous_oxide_per_capita  population           gdp  \\\n",
       "0                       NaN   7624058.0           NaN   \n",
       "1                       NaN   7752117.0  9.421400e+09   \n",
       "2                       NaN   7840151.0  9.692280e+09   \n",
       "3                       NaN   7935996.0  1.001732e+10   \n",
       "4                       NaN   8039684.0  1.063052e+10   \n",
       "\n",
       "   primary_energy_consumption  energy_per_capita  energy_per_gdp  \n",
       "0                         NaN                NaN             NaN  \n",
       "1                         NaN                NaN             NaN  \n",
       "2                         NaN                NaN             NaN  \n",
       "3                         NaN                NaN             NaN  \n",
       "4                         NaN                NaN             NaN  \n",
       "\n",
       "[5 rows x 60 columns]"
      ]
     },
     "execution_count": 2,
     "metadata": {},
     "output_type": "execute_result"
    }
   ],
   "source": [
    "df = pd.read_csv('../Data/owid-co2-data.csv')\n",
    "df.head()"
   ]
  },
  {
   "cell_type": "code",
   "execution_count": 3,
   "metadata": {},
   "outputs": [
    {
     "data": {
      "text/html": [
       "<div>\n",
       "<style scoped>\n",
       "    .dataframe tbody tr th:only-of-type {\n",
       "        vertical-align: middle;\n",
       "    }\n",
       "\n",
       "    .dataframe tbody tr th {\n",
       "        vertical-align: top;\n",
       "    }\n",
       "\n",
       "    .dataframe thead th {\n",
       "        text-align: right;\n",
       "    }\n",
       "</style>\n",
       "<table border=\"1\" class=\"dataframe\">\n",
       "  <thead>\n",
       "    <tr style=\"text-align: right;\">\n",
       "      <th></th>\n",
       "      <th>date</th>\n",
       "      <th>co2</th>\n",
       "    </tr>\n",
       "  </thead>\n",
       "  <tbody>\n",
       "    <tr>\n",
       "      <th>0</th>\n",
       "      <td>1750-12-31</td>\n",
       "      <td>46.755</td>\n",
       "    </tr>\n",
       "    <tr>\n",
       "      <th>1</th>\n",
       "      <td>1751-12-31</td>\n",
       "      <td>46.755</td>\n",
       "    </tr>\n",
       "    <tr>\n",
       "      <th>2</th>\n",
       "      <td>1752-12-31</td>\n",
       "      <td>46.770</td>\n",
       "    </tr>\n",
       "    <tr>\n",
       "      <th>3</th>\n",
       "      <td>1753-12-31</td>\n",
       "      <td>46.770</td>\n",
       "    </tr>\n",
       "    <tr>\n",
       "      <th>4</th>\n",
       "      <td>1754-12-31</td>\n",
       "      <td>46.790</td>\n",
       "    </tr>\n",
       "  </tbody>\n",
       "</table>\n",
       "</div>"
      ],
      "text/plain": [
       "        date     co2\n",
       "0 1750-12-31  46.755\n",
       "1 1751-12-31  46.755\n",
       "2 1752-12-31  46.770\n",
       "3 1753-12-31  46.770\n",
       "4 1754-12-31  46.790"
      ]
     },
     "execution_count": 3,
     "metadata": {},
     "output_type": "execute_result"
    }
   ],
   "source": [
    "# Aggregate the data on a yearly basis (the entire world as one entity, I don't care about the emissions of individual countries)\n",
    "df = df.groupby(by=['year']).sum().reset_index()[['year','co2']]\n",
    "df.insert(loc = 1, column = 'month', value = 12)\n",
    "df.insert(loc = 2, column = 'day', value = 31)\n",
    "values = pd.to_datetime(df[['year','month','day']])\n",
    "df.insert(loc = 0, column = 'date', value = values)\n",
    "df.drop(['year','month','day'], axis = 1, inplace = True)\n",
    "df.head()"
   ]
  },
  {
   "cell_type": "code",
   "execution_count": 4,
   "metadata": {},
   "outputs": [
    {
     "data": {
      "text/html": [
       "<div>\n",
       "<style scoped>\n",
       "    .dataframe tbody tr th:only-of-type {\n",
       "        vertical-align: middle;\n",
       "    }\n",
       "\n",
       "    .dataframe tbody tr th {\n",
       "        vertical-align: top;\n",
       "    }\n",
       "\n",
       "    .dataframe thead th {\n",
       "        text-align: right;\n",
       "    }\n",
       "</style>\n",
       "<table border=\"1\" class=\"dataframe\">\n",
       "  <thead>\n",
       "    <tr style=\"text-align: right;\">\n",
       "      <th></th>\n",
       "      <th>date</th>\n",
       "      <th>co2</th>\n",
       "    </tr>\n",
       "  </thead>\n",
       "  <tbody>\n",
       "    <tr>\n",
       "      <th>266</th>\n",
       "      <td>2016-12-31</td>\n",
       "      <td>34035.4</td>\n",
       "    </tr>\n",
       "    <tr>\n",
       "      <th>267</th>\n",
       "      <td>2017-12-31</td>\n",
       "      <td>34471.8</td>\n",
       "    </tr>\n",
       "    <tr>\n",
       "      <th>268</th>\n",
       "      <td>2018-12-31</td>\n",
       "      <td>35058.0</td>\n",
       "    </tr>\n",
       "    <tr>\n",
       "      <th>269</th>\n",
       "      <td>2019-12-31</td>\n",
       "      <td>35049.9</td>\n",
       "    </tr>\n",
       "    <tr>\n",
       "      <th>270</th>\n",
       "      <td>2020-12-31</td>\n",
       "      <td>33185.8</td>\n",
       "    </tr>\n",
       "  </tbody>\n",
       "</table>\n",
       "</div>"
      ],
      "text/plain": [
       "          date      co2\n",
       "266 2016-12-31  34035.4\n",
       "267 2017-12-31  34471.8\n",
       "268 2018-12-31  35058.0\n",
       "269 2019-12-31  35049.9\n",
       "270 2020-12-31  33185.8"
      ]
     },
     "execution_count": 4,
     "metadata": {},
     "output_type": "execute_result"
    }
   ],
   "source": [
    "# To work with tonnes of CO2 it is necessary a conversion factor of 3.664\n",
    "df['co2'] = df['co2']/3.664\n",
    "df.tail().round(1)"
   ]
  },
  {
   "cell_type": "code",
   "execution_count": 5,
   "metadata": {},
   "outputs": [
    {
     "data": {
      "image/png": "[encoded data removed]",
      "text/plain": [
       "<Figure size 1500x1000 with 1 Axes>"
      ]
     },
     "metadata": {},
     "output_type": "display_data"
    }
   ],
   "source": [
    "# Visualizing the yearly emission\n",
    "plt.plot(df['date'],\n",
    "         df['co2'],\n",
    "         linewidth = 3,\n",
    "         color = 'forestgreen')\n",
    "plt.title('Total World CO2 Emissions', fontsize = 22)\n",
    "plt.xlabel('Year', fontsize = 18)\n",
    "plt.ylabel('Million Tonnes of CO2 Emmitted into the Atmosphere', fontsize = 18)\n",
    "plt.xticks(fontsize = 13)\n",
    "plt.yticks(fontsize = 13)\n",
    "plt.show()"
   ]
  },
  {
   "cell_type": "markdown",
   "metadata": {},
   "source": [
    "## Windowing"
   ]
  },
  {
   "cell_type": "code",
   "execution_count": 6,
   "metadata": {},
   "outputs": [],
   "source": [
    "def df_to_inputs(df, window_size = 5):\n",
    "    # Input: dataframe with the time series and window size\n",
    "    # Windows size refers to the number of points in the series with which the model will be trained\n",
    "    # Output: X, y for training\n",
    "    df_as_np = df.to_numpy()\n",
    "    X = []\n",
    "    y = []\n",
    "    \n",
    "    for i in range(len(df_as_np)-window_size):\n",
    "        X.append([[a] for a in df_as_np[i:i+5]])\n",
    "        y.append(df_as_np[i+5])\n",
    "    \n",
    "    return np.array(X), np.array(y)"
   ]
  },
  {
   "cell_type": "code",
   "execution_count": 7,
   "metadata": {},
   "outputs": [],
   "source": [
    "# Getting the windows\n",
    "WINDOW_SIZE = 5\n",
    "X, y = df_to_inputs(df['co2'], WINDOW_SIZE)"
   ]
  },
  {
   "cell_type": "code",
   "execution_count": 8,
   "metadata": {},
   "outputs": [
    {
     "data": {
      "text/plain": [
       "((266, 5, 1), (266,))"
      ]
     },
     "execution_count": 8,
     "metadata": {},
     "output_type": "execute_result"
    }
   ],
   "source": [
    "X.shape, y.shape"
   ]
  },
  {
   "cell_type": "markdown",
   "metadata": {},
   "source": [
    "## Train, Validation and Test Sets"
   ]
  },
  {
   "cell_type": "code",
   "execution_count": 9,
   "metadata": {},
   "outputs": [],
   "source": [
    "# 80% Train, 10% Valid, 10% Test\n",
    "X_train, y_train = X[:213], y[:213]\n",
    "X_val, y_val = X[213:240], y[213:240]\n",
    "X_test, y_test = X[240:], y[240:]"
   ]
  },
  {
   "cell_type": "code",
   "execution_count": 10,
   "metadata": {},
   "outputs": [
    {
     "data": {
      "text/plain": [
       "((213, 5, 1), (213,), (27, 5, 1), (27,), (26, 5, 1), (26,))"
      ]
     },
     "execution_count": 10,
     "metadata": {},
     "output_type": "execute_result"
    }
   ],
   "source": [
    "X_train.shape, y_train.shape, X_val.shape, y_val.shape, X_test.shape, y_test.shape"
   ]
  },
  {
   "cell_type": "markdown",
   "metadata": {},
   "source": [
    "## Model"
   ]
  },
  {
   "cell_type": "code",
   "execution_count": 14,
   "metadata": {},
   "outputs": [
    {
     "name": "stdout",
     "output_type": "stream",
     "text": [
      "Model: \"sequential_1\"\n",
      "_________________________________________________________________\n",
      "Layer (type)                 Output Shape              Param #   \n",
      "=================================================================\n",
      "lstm_1 (LSTM)                (None, 64)                16896     \n",
      "_________________________________________________________________\n",
      "dense_2 (Dense)              (None, 8)                 520       \n",
      "_________________________________________________________________\n",
      "dense_3 (Dense)              (None, 1)                 9         \n",
      "=================================================================\n",
      "Total params: 17,425\n",
      "Trainable params: 17,425\n",
      "Non-trainable params: 0\n",
      "_________________________________________________________________\n"
     ]
    }
   ],
   "source": [
    "model = Sequential()\n",
    "model.add(InputLayer((5,1)))\n",
    "model.add(LSTM(64))\n",
    "model.add(Dense(8, 'sigmoid'))\n",
    "model.add(Dense(1, 'linear'))\n",
    "\n",
    "model.summary()"
   ]
  },
  {
   "cell_type": "code",
   "execution_count": 15,
   "metadata": {},
   "outputs": [],
   "source": [
    "cp = ModelCheckpoint('model', save_best_only = True)\n",
    "model.compile(loss = MeanSquaredError(), optimizer = Adam(learning_rate=0.0001), metrics = [RootMeanSquaredError()])"
   ]
  },
  {
   "cell_type": "code",
   "execution_count": 16,
   "metadata": {},
   "outputs": [
    {
     "name": "stdout",
     "output_type": "stream",
     "text": [
      "Train on 213 samples, validate on 27 samples\n",
      "Epoch 1/10\n"
     ]
    },
    {
     "name": "stderr",
     "output_type": "stream",
     "text": [
      "2022-09-11 08:53:17.674006: W tensorflow/core/grappler/optimizers/implementation_selector.cc:310] Skipping optimization due to error while loading function libraries: Invalid argument: Functions '__inference___backward_standard_lstm_74073_74558_specialized_for_StatefulPartitionedCall_at___inference_distributed_function_74669' and '__inference___backward_cudnn_lstm_with_fallback_73767_73949' both implement 'lstm_ee85f934-8b2d-4bfb-aa61-9f8b4d003682' but their signatures do not match.\n"
     ]
    },
    {
     "name": "stdout",
     "output_type": "stream",
     "text": [
      "160/213 [=====================>........] - ETA: 0s - loss: 11627087.4000 - root_mean_squared_error: 3409.8516 "
     ]
    },
    {
     "name": "stderr",
     "output_type": "stream",
     "text": [
      "2022-09-11 08:53:18.924287: W tensorflow/core/grappler/optimizers/implementation_selector.cc:310] Skipping optimization due to error while loading function libraries: Invalid argument: Functions '__inference_standard_lstm_74883_specialized_for_sequential_1_lstm_1_StatefulPartitionedCall_at___inference_distributed_function_75233' and '__inference_standard_lstm_74883' both implement 'lstm_9f205ec1-6c99-4bc9-8e5b-3696e4028934' but their signatures do not match.\n"
     ]
    },
    {
     "name": "stdout",
     "output_type": "stream",
     "text": [
      "INFO:tensorflow:Assets written to: model/assets\n",
      "213/213 [==============================] - 5s 26ms/sample - loss: 12020661.7981 - root_mean_squared_error: 3467.0825 - val_loss: 423745536.0000 - val_root_mean_squared_error: 20585.0801\n",
      "Epoch 2/10\n",
      "160/213 [=====================>........] - ETA: 0s - loss: 11581208.0000 - root_mean_squared_error: 3403.1174INFO:tensorflow:Assets written to: model/assets\n",
      "213/213 [==============================] - 2s 11ms/sample - loss: 12020428.6103 - root_mean_squared_error: 3467.0488 - val_loss: 423744384.0000 - val_root_mean_squared_error: 20585.0527\n",
      "Epoch 3/10\n",
      "160/213 [=====================>........] - ETA: 0s - loss: 13526252.4000 - root_mean_squared_error: 3677.8054INFO:tensorflow:Assets written to: model/assets\n",
      "213/213 [==============================] - 3s 15ms/sample - loss: 12020058.3779 - root_mean_squared_error: 3466.9956 - val_loss: 423738240.0000 - val_root_mean_squared_error: 20584.9023\n",
      "Epoch 4/10\n",
      "160/213 [=====================>........] - ETA: 0s - loss: 12710468.8000 - root_mean_squared_error: 3565.1746INFO:tensorflow:Assets written to: model/assets\n",
      "213/213 [==============================] - 4s 18ms/sample - loss: 12019979.0563 - root_mean_squared_error: 3466.9841 - val_loss: 423737728.0000 - val_root_mean_squared_error: 20584.8906\n",
      "Epoch 5/10\n",
      "128/213 [=================>............] - ETA: 0s - loss: 10660872.2500 - root_mean_squared_error: 3265.0991INFO:tensorflow:Assets written to: model/assets\n",
      "213/213 [==============================] - 3s 12ms/sample - loss: 12019930.1972 - root_mean_squared_error: 3466.9771 - val_loss: 423737312.0000 - val_root_mean_squared_error: 20584.8809\n",
      "Epoch 6/10\n",
      "160/213 [=====================>........] - ETA: 0s - loss: 9893130.1000 - root_mean_squared_error: 3145.3347 INFO:tensorflow:Assets written to: model/assets\n",
      "213/213 [==============================] - 2s 11ms/sample - loss: 12019879.6244 - root_mean_squared_error: 3466.9697 - val_loss: 423736768.0000 - val_root_mean_squared_error: 20584.8672\n",
      "Epoch 7/10\n",
      "128/213 [=================>............] - ETA: 0s - loss: 11176671.6250 - root_mean_squared_error: 3343.1528INFO:tensorflow:Assets written to: model/assets\n",
      "213/213 [==============================] - 4s 17ms/sample - loss: 12019818.5728 - root_mean_squared_error: 3466.9609 - val_loss: 423735840.0000 - val_root_mean_squared_error: 20584.8457\n",
      "Epoch 8/10\n",
      "128/213 [=================>............] - ETA: 0s - loss: 13487622.5000 - root_mean_squared_error: 3672.5498INFO:tensorflow:Assets written to: model/assets\n",
      "213/213 [==============================] - 2s 11ms/sample - loss: 12019697.1432 - root_mean_squared_error: 3466.9434 - val_loss: 423734624.0000 - val_root_mean_squared_error: 20584.8145\n",
      "Epoch 9/10\n",
      "160/213 [=====================>........] - ETA: 0s - loss: 11935848.1000 - root_mean_squared_error: 3454.8296INFO:tensorflow:Assets written to: model/assets\n",
      "213/213 [==============================] - 4s 21ms/sample - loss: 12019628.7371 - root_mean_squared_error: 3466.9336 - val_loss: 423734144.0000 - val_root_mean_squared_error: 20584.8047\n",
      "Epoch 10/10\n",
      "128/213 [=================>............] - ETA: 0s - loss: 9642924.2500 - root_mean_squared_error: 3105.3057INFO:tensorflow:Assets written to: model/assets\n",
      "213/213 [==============================] - 2s 11ms/sample - loss: 12019558.8028 - root_mean_squared_error: 3466.9233 - val_loss: 423732608.0000 - val_root_mean_squared_error: 20584.7656\n"
     ]
    },
    {
     "data": {
      "text/plain": [
       "<tensorflow.python.keras.callbacks.History at 0x7fbb0bc43b50>"
      ]
     },
     "execution_count": 16,
     "metadata": {},
     "output_type": "execute_result"
    }
   ],
   "source": [
    "model.fit(X_train, y_train, validation_data = (X_val, y_val), epochs = 10, callbacks = [cp])"
   ]
  },
  {
   "cell_type": "code",
   "execution_count": null,
   "metadata": {},
   "outputs": [],
   "source": []
  }
 ],
 "metadata": {
  "kernelspec": {
   "display_name": "Python 3.7.13 ('CO2_emissions')",
   "language": "python",
   "name": "python3"
  },
  "language_info": {
   "codemirror_mode": {
    "name": "ipython",
    "version": 3
   },
   "file_extension": ".py",
   "mimetype": "text/x-python",
   "name": "python",
   "nbconvert_exporter": "python",
   "pygments_lexer": "ipython3",
   "version": "3.7.13"
  },
  "orig_nbformat": 4,
  "vscode": {
   "interpreter": {
    "hash": "58d670b938b8c66b0e557f074045bd60b98dd776773f92acd94d4ffbf850fea9"
   }
  }
 },
 "nbformat": 4,
 "nbformat_minor": 2
}
