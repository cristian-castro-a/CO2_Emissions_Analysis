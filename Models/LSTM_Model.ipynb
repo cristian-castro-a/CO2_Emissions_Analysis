{
 "cells": [
  {
   "cell_type": "markdown",
   "metadata": {},
   "source": [
    "# World CO2 Emissions Forecasting\n",
    "## LSTM Model\n",
    "[*Cristian Castro Álvarez*](https://github.com/cristian-castro-a)"
   ]
  },
  {
   "cell_type": "markdown",
   "metadata": {},
   "source": [
    "**Goal**: \n",
    "- Forecast the amount of World CO2 emissions (in tonnes) for the next 10 years (2021 - 2030).\n",
    "\n",
    "\n",
    "**Data:**\n",
    "- The data comes from [Our World in Data](https://github.com/owid/co2-data)\n",
    "- Column 'CO2' of the dataframe indicates the Tonnes of CO2 emmitted into the atmosphere.\n",
    "- The dataset includes yearly data from 1750 to 2020, with a total of 271 data points."
   ]
  },
  {
   "cell_type": "code",
   "execution_count": 1,
   "metadata": {},
   "outputs": [],
   "source": [
    "#Libraries\n",
    "import pandas as pd\n",
    "import numpy as np\n",
    "import matplotlib.pyplot as plt\n",
    "import tensorflow\n",
    "\n",
    "import warnings\n",
    "warnings.filterwarnings(\"ignore\")"
   ]
  },
  {
   "cell_type": "markdown",
   "metadata": {},
   "source": [
    "# Data"
   ]
  },
  {
   "cell_type": "markdown",
   "metadata": {},
   "source": []
  }
 ],
 "metadata": {
  "kernelspec": {
   "display_name": "Python 3.7.13 ('CO2_emissions')",
   "language": "python",
   "name": "python3"
  },
  "language_info": {
   "codemirror_mode": {
    "name": "ipython",
    "version": 3
   },
   "file_extension": ".py",
   "mimetype": "text/x-python",
   "name": "python",
   "nbconvert_exporter": "python",
   "pygments_lexer": "ipython3",
   "version": "3.7.13"
  },
  "orig_nbformat": 4,
  "vscode": {
   "interpreter": {
    "hash": "58d670b938b8c66b0e557f074045bd60b98dd776773f92acd94d4ffbf850fea9"
   }
  }
 },
 "nbformat": 4,
 "nbformat_minor": 2
}
